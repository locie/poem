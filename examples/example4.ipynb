{
 "cells": [
  {
   "cell_type": "markdown",
   "id": "d38c475d-8a31-4b31-bdd9-f0a55919b581",
   "metadata": {},
   "source": [
    "# Example 4 - HMM for occupancy detection\n",
    "\n",
    "Problem description:\n",
    "* Workflow: simple fit\n",
    "* Object : whole building or room\n",
    "* Time step : week or day\n",
    "* Data: LBNL FDD\n",
    "\n",
    "Model: HMM"
   ]
  }
 ],
 "metadata": {
  "kernelspec": {
   "display_name": "Python 3 (ipykernel)",
   "language": "python",
   "name": "python3"
  },
  "language_info": {
   "codemirror_mode": {
    "name": "ipython",
    "version": 3
   },
   "file_extension": ".py",
   "mimetype": "text/x-python",
   "name": "python",
   "nbconvert_exporter": "python",
   "pygments_lexer": "ipython3",
   "version": "3.13.2"
  }
 },
 "nbformat": 4,
 "nbformat_minor": 5
}
